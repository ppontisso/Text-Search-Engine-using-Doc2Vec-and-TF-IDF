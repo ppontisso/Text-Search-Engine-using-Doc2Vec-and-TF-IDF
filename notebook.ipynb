{
 "cells": [
  {
   "cell_type": "markdown",
   "metadata": {
    "_cell_guid": "ecf2d083-6906-45fa-9c60-df66372fd81f",
    "_uuid": "92204e609cf358a48438edb251a22a0201923254"
   },
   "source": [
    "# How to make a search engine on Movies Description"
   ]
  },
  {
   "cell_type": "markdown",
   "metadata": {},
   "source": [
    "In this notebook, you will learn how to :\n",
    "\n",
    "1. [Create a Doc2Vec model that represents words and documents into numerical vectors](#creating)\n",
    "\n",
    "2. [Find words related to other words](#words)\n",
    "3. [Find the document that has the closest meaning to a list of key words like in a search engine](#docs)\n",
    "\n",
    "4. [Create a TF-IDF search engine](#tfidf)\n",
    "\n",
    "\n",
    "\n",
    "<div class=\"alert alert-warning\">\n",
    "To run this notebook, you will need :\n",
    "<ul>\n",
    "<li>to run on **python 3.6.2**</li>\n",
    "<li>to have **gensim** installed. Run '**pip install gensim**' in the python environment you are using for this notebook.</li>\n",
    "<li>to have **langdetect** installed. Run '**pip install langdetect**' in the python environment you are using for this notebook.</li>\n",
    "</ul>\n",
    "\n",
    "</div>\n",
    "\n",
    "We will start by importing what we need and downloading the files with the movies description.\n",
    "\n",
    "The dataset comes from a kaggle dataset : https://www.kaggle.com/rounakbanik/the-movies-dataset/data"
   ]
  },
  {
   "cell_type": "code",
   "execution_count": 1,
   "metadata": {
    "_cell_guid": "631a5f46-877b-41cb-9785-3f87831577b1",
    "_uuid": "461cc3b1bf67fb4984fd6dcf230b595f08e41105"
   },
   "outputs": [
    {
     "name": "stderr",
     "output_type": "stream",
     "text": [
      "C:\\Users\\Paul\\Anaconda3\\lib\\site-packages\\gensim\\utils.py:860: UserWarning: detected Windows; aliasing chunkize to chunkize_serial\n",
      "  warnings.warn(\"detected Windows; aliasing chunkize to chunkize_serial\")\n"
     ]
    }
   ],
   "source": [
    "import numpy as np\n",
    "import pandas as pd\n",
    "import matplotlib.pyplot as plt\n",
    "%matplotlib inline\n",
    "\n",
    "from gensim.models import Doc2Vec\n",
    "from collections import namedtuple\n",
    "import gensim.utils\n",
    "from langdetect import detect\n",
    "import re\n",
    "import string"
   ]
  },
  {
   "cell_type": "code",
   "execution_count": 2,
   "metadata": {
    "scrolled": true
   },
   "outputs": [
    {
     "data": {
      "text/html": [
       "<div>\n",
       "<style>\n",
       "    .dataframe thead tr:only-child th {\n",
       "        text-align: right;\n",
       "    }\n",
       "\n",
       "    .dataframe thead th {\n",
       "        text-align: left;\n",
       "    }\n",
       "\n",
       "    .dataframe tbody tr th {\n",
       "        vertical-align: top;\n",
       "    }\n",
       "</style>\n",
       "<table border=\"1\" class=\"dataframe\">\n",
       "  <thead>\n",
       "    <tr style=\"text-align: right;\">\n",
       "      <th></th>\n",
       "      <th>overview</th>\n",
       "      <th>original_title</th>\n",
       "    </tr>\n",
       "  </thead>\n",
       "  <tbody>\n",
       "    <tr>\n",
       "      <th>0</th>\n",
       "      <td>Led by Woody, Andy's toys live happily in his ...</td>\n",
       "      <td>Toy Story</td>\n",
       "    </tr>\n",
       "    <tr>\n",
       "      <th>1</th>\n",
       "      <td>When siblings Judy and Peter discover an encha...</td>\n",
       "      <td>Jumanji</td>\n",
       "    </tr>\n",
       "    <tr>\n",
       "      <th>2</th>\n",
       "      <td>A family wedding reignites the ancient feud be...</td>\n",
       "      <td>Grumpier Old Men</td>\n",
       "    </tr>\n",
       "    <tr>\n",
       "      <th>3</th>\n",
       "      <td>Cheated on, mistreated and stepped on, the wom...</td>\n",
       "      <td>Waiting to Exhale</td>\n",
       "    </tr>\n",
       "    <tr>\n",
       "      <th>4</th>\n",
       "      <td>Just when George Banks has recovered from his ...</td>\n",
       "      <td>Father of the Bride Part II</td>\n",
       "    </tr>\n",
       "  </tbody>\n",
       "</table>\n",
       "</div>"
      ],
      "text/plain": [
       "                                            overview  \\\n",
       "0  Led by Woody, Andy's toys live happily in his ...   \n",
       "1  When siblings Judy and Peter discover an encha...   \n",
       "2  A family wedding reignites the ancient feud be...   \n",
       "3  Cheated on, mistreated and stepped on, the wom...   \n",
       "4  Just when George Banks has recovered from his ...   \n",
       "\n",
       "                original_title  \n",
       "0                    Toy Story  \n",
       "1                      Jumanji  \n",
       "2             Grumpier Old Men  \n",
       "3            Waiting to Exhale  \n",
       "4  Father of the Bride Part II  "
      ]
     },
     "execution_count": 2,
     "metadata": {},
     "output_type": "execute_result"
    }
   ],
   "source": [
    "imdbdata=pd.read_csv('movies.csv')\n",
    "data = np.array(imdbdata.overview)\n",
    "titles=np.array(imdbdata.original_title)\n",
    "\n",
    "imdbdata.head()"
   ]
  },
  {
   "cell_type": "markdown",
   "metadata": {
    "_cell_guid": "4048fc6a-45ae-45c0-9bcd-ec03c052cfb0",
    "_uuid": "eb0ae6b4fe1db43931c21ac366ae3aa1f7f721fb",
    "collapsed": true
   },
   "source": [
    "## Text preprocessing\n",
    "\n",
    "In order to build the doc2vec model we need to clean the data that we have. We will remove documents that are not strings, that are too short and that are not written in english.\n",
    "Then, we will remove punctuation, and lowercase every word.\n",
    "We will build the list **alldocs** that contains every documents cleaned."
   ]
  },
  {
   "cell_type": "code",
   "execution_count": 3,
   "metadata": {
    "_cell_guid": "ca3b00dd-71ff-4e7e-a149-d341419f796c",
    "_uuid": "9e70b2660d580eb945a6e0ac1448f07074d0aaf7",
    "collapsed": true
   },
   "outputs": [],
   "source": [
    "SentimentDocument = namedtuple('SentimentDocument', 'words tags title original_number')\n",
    "n=0\n",
    "alldocs = []  # Will hold all docs in original order\n",
    "\n",
    "regex = re.compile('[%s]' % re.escape(string.punctuation)) #to remove punctuation\n",
    "\n",
    "for line_no, line in enumerate(data):\n",
    "    if (type(line)==str):\n",
    "        if (len(line)>150):\n",
    "            if (detect(line) == 'en') :\n",
    "                line = regex.sub('', line)\n",
    "                tokens = gensim.utils.to_unicode(line).lower().split()\n",
    "                words = tokens[0:]\n",
    "                tags = [n]\n",
    "                title = titles[line_no]\n",
    "                alldocs.append(SentimentDocument(words, tags, title, line_no))\n",
    "                n=n+1    "
   ]
  },
  {
   "cell_type": "markdown",
   "metadata": {},
   "source": [
    "Some insights on the dataset :"
   ]
  },
  {
   "cell_type": "code",
   "execution_count": 4,
   "metadata": {},
   "outputs": [
    {
     "name": "stdout",
     "output_type": "stream",
     "text": [
      "Number of Documents :  34179\n",
      "Mean length of documents :  65.9082770122\n"
     ]
    },
    {
     "data": {
      "text/plain": [
       "<matplotlib.text.Text at 0x1742b5b5dd8>"
      ]
     },
     "execution_count": 4,
     "metadata": {},
     "output_type": "execute_result"
    },
    {
     "data": {
      "image/png": "[encoded data removed]",
      "text/plain": [
       "<matplotlib.figure.Figure at 0x1741c922668>"
      ]
     },
     "metadata": {},
     "output_type": "display_data"
    }
   ],
   "source": [
    "l = []\n",
    "for doc in alldocs:\n",
    "    l.append(len(doc.words))\n",
    "\n",
    "print('Number of Documents : ', len(alldocs))\n",
    "print('Mean length of documents : ', np.mean(l))\n",
    "\n",
    "plt.figure (figsize=(20, 6))\n",
    "plt.bar(range(0, len(l)), l)\n",
    "plt.xlabel('Documents')\n",
    "plt.ylabel('Length of the description')"
   ]
  },
  {
   "cell_type": "code",
   "execution_count": 5,
   "metadata": {},
   "outputs": [
    {
     "name": "stdout",
     "output_type": "stream",
     "text": [
      "SentimentDocument(words=['led', 'by', 'woody', 'andys', 'toys', 'live', 'happily', 'in', 'his', 'room', 'until', 'andys', 'birthday', 'brings', 'buzz', 'lightyear', 'onto', 'the', 'scene', 'afraid', 'of', 'losing', 'his', 'place', 'in', 'andys', 'heart', 'woody', 'plots', 'against', 'buzz', 'but', 'when', 'circumstances', 'separate', 'buzz', 'and', 'woody', 'from', 'their', 'owner', 'the', 'duo', 'eventually', 'learns', 'to', 'put', 'aside', 'their', 'differences'], tags=[0], title='Toy Story', original_number=0) \n",
      "\n",
      "Led by Woody, Andy's toys live happily in his room until Andy's birthday brings Buzz Lightyear onto the scene. Afraid of losing his place in Andy's heart, Woody plots against Buzz. But when circumstances separate Buzz and Woody from their owner, the duo eventually learns to put aside their differences.\n"
     ]
    }
   ],
   "source": [
    "# An example of how the list alldocs is build\n",
    "\n",
    "index = 0\n",
    "doc = alldocs[index]\n",
    "print(doc, '\\n')\n",
    "print(data[doc.original_number])"
   ]
  },
  {
   "cell_type": "markdown",
   "metadata": {},
   "source": [
    "## <a id=\"creating\"></a> Creating and training the Doc2Vec model\n",
    "\n",
    "We create the Distributed Memory model with a size of 300 ( that means that the vectors will be of size 300). The window size is 10. We do not take in account words that are seen less than 10 times in the entire corpus with the variable *min_count*. Setting the variable *dbow_words* to 1 means that we are also training to represents words with numerical vectors.\n",
    "\n",
    "We then train our model over 100 epochs with a lerning rate of 0.01.\n",
    "\n",
    "Full documentation can be found here :\n",
    "<li> gensim : https://radimrehurek.com/gensim/ </li>\n",
    "<li> Doc2Vec : https://radimrehurek.com/gensim/models/doc2vec.html </li>\n",
    "<li> A great article introducing the concepts behind Doc2Vec : https://medium.com/scaleabout/a-gentle-introduction-to-doc2vec-db3e8c0cce5e </li>\n",
    "<li> Detailed scientific paper : https://cs.stanford.edu/~quocle/paragraph_vector.pdf </li>\n"
   ]
  },
  {
   "cell_type": "code",
   "execution_count": 6,
   "metadata": {
    "_cell_guid": "3fc47183-c884-4bef-9383-21231d52430c",
    "_uuid": "f8bd956e9ff7bc99f388c3ded7a927c0b05ada63",
    "collapsed": true
   },
   "outputs": [],
   "source": [
    "# PV-DM\n",
    "model = Doc2Vec(dm=1, size=300,window=10,hs=0,min_count=10,dbow_words=1,sample=1e-5)\n",
    "\n",
    "# build the vocabulary \n",
    "model.build_vocab(alldocs)"
   ]
  },
  {
   "cell_type": "code",
   "execution_count": 7,
   "metadata": {
    "_cell_guid": "8e62a5d0-741d-4644-9f38-3ae01088d40e",
    "_uuid": "72ff0acf1b30b343245108858206ab867b8aaf52"
   },
   "outputs": [
    {
     "data": {
      "text/plain": [
       "61857051"
      ]
     },
     "execution_count": 7,
     "metadata": {},
     "output_type": "execute_result"
    }
   ],
   "source": [
    "model.train(alldocs, total_examples=model.corpus_count, epochs=100, start_alpha=0.01, end_alpha=0.01)"
   ]
  },
  {
   "cell_type": "markdown",
   "metadata": {},
   "source": [
    "We can save and load models with the lines below."
   ]
  },
  {
   "cell_type": "code",
   "execution_count": 8,
   "metadata": {
    "_cell_guid": "4f29a0ca-7d95-45e2-b30a-08e80a849d27",
    "_uuid": "c13199e4db1ef943421c059dc8c58ad4c6244e31",
    "collapsed": true
   },
   "outputs": [],
   "source": [
    "model.save(\"model\")\n",
    "#Doc2Vec.load(\"model\")"
   ]
  },
  {
   "cell_type": "markdown",
   "metadata": {
    "_cell_guid": "5c7a4693-66e6-4213-b940-b3f5078ee094",
    "_uuid": "80fe102b1b5cad2b555c67b495c1e8cd6fb76fb9"
   },
   "source": [
    "## <a id=\"words\"></a>Evaluating words embedding\n",
    "\n",
    "We will evaluate our model with some examples by showing the closest words to the words love, war and space.\n",
    "\n",
    "As the process of training a neural network does not always come to the same model, if the results do not make sense, you might consider creating the model and training it again.\n",
    "\n"
   ]
  },
  {
   "cell_type": "code",
   "execution_count": 9,
   "metadata": {},
   "outputs": [
    {
     "data": {
      "text/plain": [
       "[('falls', 0.8415920734405518),\n",
       " ('fall', 0.8223381042480469),\n",
       " ('falling', 0.809511661529541),\n",
       " ('madly', 0.805092453956604),\n",
       " ('triangle', 0.7625957131385803),\n",
       " ('longing', 0.7604942321777344),\n",
       " ('loves', 0.7585750222206116),\n",
       " ('unrequited', 0.7567517757415771),\n",
       " ('fallen', 0.7561032176017761),\n",
       " ('starcrossed', 0.7486485838890076)]"
      ]
     },
     "execution_count": 9,
     "metadata": {},
     "output_type": "execute_result"
    }
   ],
   "source": [
    "model.wv.most_similar_cosmul(positive = [\"love\"])"
   ]
  },
  {
   "cell_type": "code",
   "execution_count": 10,
   "metadata": {},
   "outputs": [
    {
     "data": {
      "text/plain": [
       "[('ii', 0.916086733341217),\n",
       " ('civil', 0.8646630048751831),\n",
       " ('ww', 0.8290786147117615),\n",
       " ('soldier', 0.8284476399421692),\n",
       " ('trenches', 0.8215895295143127),\n",
       " ('frontline', 0.8129386305809021),\n",
       " ('soldiers', 0.803424060344696),\n",
       " ('wwii', 0.8010735511779785),\n",
       " ('gis', 0.8008193373680115),\n",
       " ('wwi', 0.798528254032135)]"
      ]
     },
     "execution_count": 10,
     "metadata": {},
     "output_type": "execute_result"
    }
   ],
   "source": [
    "model.wv.most_similar_cosmul(positive = [\"war\"])"
   ]
  },
  {
   "cell_type": "code",
   "execution_count": 11,
   "metadata": {},
   "outputs": [
    {
     "data": {
      "text/plain": [
       "[('planet', 0.905954122543335),\n",
       " ('earth', 0.8947596549987793),\n",
       " ('astronaut', 0.8946824073791504),\n",
       " ('mars', 0.8890441060066223),\n",
       " ('astronauts', 0.8849765658378601),\n",
       " ('outer', 0.8825117349624634),\n",
       " ('spacecraft', 0.8823702335357666),\n",
       " ('asteroid', 0.8799456357955933),\n",
       " ('spaceship', 0.872674286365509),\n",
       " ('nasa', 0.868364691734314)]"
      ]
     },
     "execution_count": 11,
     "metadata": {},
     "output_type": "execute_result"
    }
   ],
   "source": [
    "model.wv.most_similar_cosmul(positive = [\"space\"])"
   ]
  },
  {
   "cell_type": "markdown",
   "metadata": {},
   "source": [
    "The cell below show that the relationship of gender is understood by the model as we almost have the equation ** man - woman = king - queen**"
   ]
  },
  {
   "cell_type": "code",
   "execution_count": 12,
   "metadata": {
    "_cell_guid": "95ad0282-82d0-405c-a3cf-c89181ede396",
    "_uuid": "8eeef245456e23f217b986b52051f360eca2b546"
   },
   "outputs": [
    {
     "data": {
      "text/plain": [
       "[('princess', 0.8492944836616516),\n",
       " ('queen', 0.847778856754303),\n",
       " ('empress', 0.8453134298324585),\n",
       " ('throne', 0.8132423162460327),\n",
       " ('betrothed', 0.8092519640922546),\n",
       " ('dartagnan', 0.8028621077537537),\n",
       " ('prince', 0.8018682599067688),\n",
       " ('motherhood', 0.7944889664649963),\n",
       " ('musketeers', 0.7898212671279907),\n",
       " ('ursula', 0.7872051000595093)]"
      ]
     },
     "execution_count": 12,
     "metadata": {},
     "output_type": "execute_result"
    }
   ],
   "source": [
    "model.wv.most_similar_cosmul(negative = [\"man\"], positive = [\"king\",\"woman\"])"
   ]
  },
  {
   "cell_type": "markdown",
   "metadata": {},
   "source": [
    "The results on the word embeddings are satisfying as we have coherent outputs.\n",
    "\n",
    "## <a id=\"docs\"></a>Evaluating documents embedding\n",
    "\n",
    "We will evaluate our model of documents embedding with some examples by showing the closest documents to key words ( here called tokens). We expect the documents to have similar meanings than the key words. In this way, the model act as a search engine."
   ]
  },
  {
   "cell_type": "code",
   "execution_count": 13,
   "metadata": {},
   "outputs": [
    {
     "name": "stdout",
     "output_type": "stream",
     "text": [
      "Document :  Thriller about Guy Luthan (Hugh Grant), a British doctor working at a hospital in New York who starts making unwanted enquiries when the body of a man who died in his emergency room disappears. The trail leads Luthan to the door of the eminent surgeon Dr Lawrence Myrick (Gene Hackman), but Luthan soon finds himself under in danger from people who want the hospital's secret to remain undiscovered. \n",
      "\n",
      "Titre :  Extreme Measures\n",
      "Distance :  0.20360776782035828\n"
     ]
    }
   ],
   "source": [
    "# Closest document to the word \"war\"\n",
    "\n",
    "tokens = \"war\"\n",
    "\n",
    "new_vector = model.infer_vector(tokens.split() ,alpha=0.001 ,steps = 5)\n",
    "tagsim = model.docvecs.most_similar([new_vector])[0]\n",
    "\n",
    "docsim = alldocs[tagsim[0] ]\n",
    "\n",
    "print(\"Document : \", data[docsim.original_number], \"\\n\")\n",
    "print(\"Titre : \", docsim.title)\n",
    "print(\"Distance : \", tagsim[1])"
   ]
  },
  {
   "cell_type": "markdown",
   "metadata": {},
   "source": [
    "We show the closest document to the key words, the farest document and a document in the middle."
   ]
  },
  {
   "cell_type": "code",
   "execution_count": 14,
   "metadata": {
    "_cell_guid": "1b8e22de-6612-486e-99ef-058b70d35e1b",
    "_uuid": "ea4c4be94897fc5049409cc54ced7b87994ff16b"
   },
   "outputs": [
    {
     "name": "stdout",
     "output_type": "stream",
     "text": [
      "Most :  This mini-series focuses on two people, Tracy Whitney and Jeff Stevens. In the beginning, Tracy was an innocent, who was in love and pregnant, with the son of an affluent family. Obviously her family did not approve of her. She would sent ot prison for a crime she didn't commit. Eventually, she got released. She then set out to get back at the people who framed her. She would try to rebuild her life but her prison record would always be a hindrance. She would be offered a job, stealing jewelry. Jeff is con-man who thought he found true love, but when he learned that his wife did not feel about him as he did, decided to con some of her friends and divorce her. Their paths would cross when Tracy after stealing what she was contracted to, meets up with some policemen, one of whom is Jeff. Apparently her boss tried to double cross her but she manages to outwit them. \n",
      "\n",
      "Median :  After graduation, five friends set out to make a difference in the world for God. Their ambitions are high, their passions are strong but will they have the courage to fulfill their calling regardless of what comes their way. The sacrifice they are asked to pay may just be too high. Through Godly council from an outside source, the group realizes that this is not their time after all, it's all His. \n",
      "\n",
      "Least :  The movie centers on a group of animals in a national park in Bombay trying to figure out a way to stop humans from building an apartment complex on their land.\n"
     ]
    }
   ],
   "source": [
    "# Closest document to the word \"love\"\n",
    "\n",
    "tokens = \"love\"\n",
    "\n",
    "new_vector = model.infer_vector(tokens.split() ,alpha=0.001 ,steps = 5)\n",
    "sims = model.docvecs.most_similar([new_vector], topn=model.docvecs.count) # get *all* similar documents\n",
    "\n",
    "print(\"Most : \" , data[alldocs[sims[0][0]].original_number], \"\\n\") \n",
    "print(\"Median : \" , data[alldocs[sims[17000][0]].original_number], \"\\n\")\n",
    "print(\"Least : \" , data[alldocs[sims[-1][0]].original_number])"
   ]
  },
  {
   "cell_type": "markdown",
   "metadata": {},
   "source": [
    "In this example, in terms of reviewer tone, movie genre, etc... the MOST cosine-similar documents seem more like the key words than the MEDIAN or LEAST"
   ]
  },
  {
   "cell_type": "code",
   "execution_count": 15,
   "metadata": {},
   "outputs": [
    {
     "name": "stdout",
     "output_type": "stream",
     "text": [
      "Target :  Culloden is a 1964 docudrama written and directed by Peter Watkins for BBC TV. It portrays the 1746 Battle of Culloden that resulted in the British Army's destruction of the Scottish Jacobite uprising and, in the words of the narrator, \"tore apart forever the clan system of the Scottish Highlands\". Described in its opening credits as \"an account of one of the most mishandled and brutal battles ever fought in Britain\", Culloden was hailed as a breakthrough for its cinematography as well as its use of non-professional actors and its presentation of an historical event in the style of modern TV war reporting. The film was based on John Prebble's study of the battle. \n",
      "\n",
      "Most :  A dramatized account of a great Russian naval mutiny and a resulting street demonstration which brought on a police massacre. The film had an incredible impact on the development of cinema and was a masterful example of montage editing. \n",
      "\n",
      "Median :  Five maids in São Paulo are observed in this episodic, impressionistic film. The women interact with each other, ride busses, work, and have longings: Rai for a husband, Créo for her lost daughter, Roxane for a career in modeling. Quitéria is naive, a gull for thieves. Cida has a husband and also a lover. While each woman gets what she wishes for (more or less), it doesn't always make things better. \n",
      "\n",
      "Least :  Nick cannot stop obsessing over his ex-girlfriend, Tris, until Tris' friend Norah suddenly shows interest in him at a club. Thus beings an odd night filled with ups and downs as the two keep running into Tris and her new boyfriend while searching for Norah's drunken friend, Caroline, with help from Nick's band mates. As the night winds down, the two have to figure out what they want from each other.\n"
     ]
    }
   ],
   "source": [
    "doc = np.random.randint(model.docvecs.count)\n",
    "\n",
    "sims = model.docvecs.most_similar(doc, topn=model.docvecs.count) # get *all* similar documents\n",
    "\n",
    "print(\"Target : \", data[alldocs[doc] .original_number], \"\\n\" )\n",
    "print(\"Most : \" , data[alldocs[sims[0][0]].original_number], \"\\n\")\n",
    "print(\"Median : \" , data[alldocs[sims[34000][0]].original_number], \"\\n\")\n",
    "print(\"Least : \" , data[alldocs[sims[-1][0]].original_number])\n"
   ]
  },
  {
   "cell_type": "markdown",
   "metadata": {},
   "source": [
    "Usually the MOST cosine-similar documents usually seem more like the TARGET than the MEDIAN or LEAST"
   ]
  },
  {
   "cell_type": "markdown",
   "metadata": {
    "_cell_guid": "d6666cff-2ff4-4bc7-a50d-7f61cd5e57b5",
    "_uuid": "2bc413a5e42337f9f33c58d9aa51ba35e6bb8cef"
   },
   "source": [
    " ## Pre-trained word embeddings\n",
    " \n",
    " It is possible to use pre-trained word embeddings for your model. Indeed, there is a word2vec model available here (https://code.google.com/archive/p/word2vec). This model is trained by google but might not be well suited for the problem you want to solve. "
   ]
  },
  {
   "cell_type": "code",
   "execution_count": 16,
   "metadata": {
    "_cell_guid": "f86b9e2f-0360-4a61-b353-9cc7e0471a60",
    "_uuid": "393e48277e0aaa610cad6ebc6a54886c0b7ae6cd",
    "collapsed": true
   },
   "outputs": [],
   "source": [
    "# PV-DBOW (with negative sampling)\n",
    "model_pre_trained = Doc2Vec(dm=0,size=300, window=15,hs=0,negative=5,min_count=10,dbow_words=1,sample=1e-5)\n",
    "\n",
    "# build the vocabulary \n",
    "model_pre_trained.build_vocab(alldocs)\n",
    "\n",
    "# use pre-trained word vectors from google\n",
    "model_pre_trained.intersect_word2vec_format('GoogleNews-vectors-negative300.bin', binary=True)"
   ]
  },
  {
   "cell_type": "code",
   "execution_count": 17,
   "metadata": {
    "_cell_guid": "36e7f4c1-3eb1-49cf-9389-d653042222ff",
    "_uuid": "3ffbedd7915d2e26db833ed4ea133c57e73fb747",
    "scrolled": false
   },
   "outputs": [
    {
     "data": {
      "text/plain": [
       "61854690"
      ]
     },
     "execution_count": 17,
     "metadata": {},
     "output_type": "execute_result"
    }
   ],
   "source": [
    "model_pre_trained.train(alldocs, total_examples=model.corpus_count, epochs=100)"
   ]
  },
  {
   "cell_type": "markdown",
   "metadata": {
    "_cell_guid": "62b8fc44-1a94-4608-9b88-0de6b66d3be4",
    "_uuid": "f8aadd752db5259e3ee00c4127c5be07148a0453",
    "collapsed": true
   },
   "source": [
    "## <a id=\"tfidf\"></a>Creating the TF-IDF model\n",
    "\n",
    "We create the TF-IDF model from the list alldocs with the module TfidfModel from gensim.\n",
    "\n",
    "\n",
    "Full documentation can be found here :\n",
    "<li> gensim : https://radimrehurek.com/gensim/ </li>\n",
    "<li> Tf-Idf : https://radimrehurek.com/gensim/models/tfidfmodel.html </li>"
   ]
  },
  {
   "cell_type": "code",
   "execution_count": 18,
   "metadata": {
    "_cell_guid": "052ac363-a61e-4995-842e-1de38251c922",
    "_uuid": "36fffa7369a33971f577610fbe19dab4e12fc495",
    "collapsed": true
   },
   "outputs": [],
   "source": [
    "from gensim.models import TfidfModel\n",
    "from gensim.corpora import Dictionary\n",
    "from gensim import similarities \n",
    "\n",
    "dct = Dictionary(doc.words for doc in alldocs)  # fit dictionary\n",
    "corpus = [dct.doc2bow(line.words) for line in alldocs]  # convert dataset to BoW format\n",
    "model_tfidf = TfidfModel(corpus)  # fit model"
   ]
  },
  {
   "cell_type": "code",
   "execution_count": 19,
   "metadata": {},
   "outputs": [
    {
     "name": "stdout",
     "output_type": "stream",
     "text": [
      "Document  0  :  Led by Woody, Andy's toys live happily in his room until Andy's birthday brings Buzz Lightyear onto the scene. Afraid of losing his place in Andy's heart, Woody plots against Buzz. But when circumstances separate Buzz and Woody from their owner, the duo eventually learns to put aside their differences.\n",
      "Bag of words representation of document  0  :  [(0, 1), (1, 1), (2, 1), (3, 3), (4, 1), (5, 1), (6, 1), (7, 1), (8, 3), (9, 1), (10, 1), (11, 1), (12, 1), (13, 1), (14, 1), (15, 1), (16, 1), (17, 2), (18, 2), (19, 1), (20, 1), (21, 1), (22, 1), (23, 1), (24, 1), (25, 1), (26, 1), (27, 1), (28, 1), (29, 1), (30, 1), (31, 1), (32, 1), (33, 2), (34, 2), (35, 1), (36, 1), (37, 1), (38, 1), (39, 3)]\n"
     ]
    }
   ],
   "source": [
    "# for example \n",
    " \n",
    "index = 0\n",
    "print(\"Document \",index, \" : \", data[alldocs[index].original_number] ) \n",
    "print(\"Bag of words representation of document \", index, \" : \", corpus[index])"
   ]
  },
  {
   "cell_type": "markdown",
   "metadata": {},
   "source": [
    "## Creating Similarity matrix between a list of key words and all the documents\n",
    "\n",
    "We create a matrix similarity thet represents the similarity between the list of key words and the documents."
   ]
  },
  {
   "cell_type": "code",
   "execution_count": 20,
   "metadata": {
    "_cell_guid": "3887f564-f139-4edb-a38f-74e7a5c70490",
    "_uuid": "2e25899e5994ad9580355b03888a1a093256bfc5",
    "collapsed": true
   },
   "outputs": [],
   "source": [
    "#Create similarity matrix between doc and tokens\n",
    "tokens = \"love\".split()\n",
    "index = similarities.MatrixSimilarity([dct.doc2bow(tokens)],num_features=len(dct))"
   ]
  },
  {
   "cell_type": "markdown",
   "metadata": {},
   "source": [
    "We just use the document with the higher score of similarity."
   ]
  },
  {
   "cell_type": "code",
   "execution_count": 21,
   "metadata": {
    "_cell_guid": "ff1d9477-926f-4fcd-98d8-e1acbaf586f6",
    "_uuid": "7bb787ed8102a74835e7b80274f1aff8ad136408"
   },
   "outputs": [
    {
     "name": "stdout",
     "output_type": "stream",
     "text": [
      "Out of Love encapsulates the sweltering and devastating dynamics of love in the turbulent relationship between Varya and Nikolai, where genuine love and hope contend with destruction and despair.\n",
      "(791, 0.20360776782035828)\n",
      "Out of Love\n"
     ]
    }
   ],
   "source": [
    "similarity=np.zeros((len(alldocs)))\n",
    "maxsim = 0\n",
    "for id, doc in enumerate(alldocs):\n",
    "    similarity[id] = index[dct.doc2bow(doc.words)]\n",
    "    \n",
    "docsim= alldocs[np.argmax(similarity)] \n",
    "print(data[docsim.original_number])\n",
    "print(tagsim)\n",
    "print(docsim.title)"
   ]
  },
  {
   "cell_type": "markdown",
   "metadata": {
    "collapsed": true
   },
   "source": [
    "The output is coherent with the input as there is the word **love** 3 times in the document.\n",
    "\n",
    "# Conclusion \n",
    "\n",
    "There are a lot of differences between the Doc2Vec search engine and the TF-IDF search engine. The TF-IDF model look only for the words listed in the key words that matches with the words in the document. This model is performing only if you look for documents that matches exactly the list of key words. But this model do not take into account the meaning of the words and the semantic proximity that can exist between 2 words. That is what is trying to achieve the Doc2Vec model. The goal is to create a model that represents meaning similarity between words and documents. The downside is that the model is more complex to create and depends on the data that is given and the tuning of hyper-parameters."
   ]
  }
 ],
 "metadata": {
  "kernelspec": {
   "display_name": "Python 3",
   "language": "python",
   "name": "python3"
  },
  "language_info": {
   "codemirror_mode": {
    "name": "ipython",
    "version": 3
   },
   "file_extension": ".py",
   "mimetype": "text/x-python",
   "name": "python",
   "nbconvert_exporter": "python",
   "pygments_lexer": "ipython3",
   "version": "3.6.1"
  }
 },
 "nbformat": 4,
 "nbformat_minor": 1
}
