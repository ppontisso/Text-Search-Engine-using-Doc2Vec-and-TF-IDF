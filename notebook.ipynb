{
 "cells": [
  {
   "cell_type": "markdown",
   "metadata": {
    "_cell_guid": "ecf2d083-6906-45fa-9c60-df66372fd81f",
    "_uuid": "92204e609cf358a48438edb251a22a0201923254"
   },
   "source": [
    "# How to make a search engine on Movies Description"
   ]
  },
  {
   "cell_type": "markdown",
   "metadata": {},
   "source": [
    "In this notebook, you will learn how to :\n",
    "\n",
    "1. [Create a Doc2Vec model that represents words and documents into numerical vectors](#creating)\n",
    "\n",
    "2. [Find words related to other words](#words)\n",
    "3. [Find the document that has the closest meaning to a list of key words like in a search engine](#docs)\n",
    "\n",
    "4. [Create a TF-IDF search engine](#tfidf)\n",
    "\n",
    "\n",
    "\n",
    "<div class=\"alert alert-warning\">\n",
    "To run this notebook, you will need :\n",
    "<ul>\n",
    "<li>to run on **python 3.6.2**</li>\n",
    "<li>to have **gensim** installed. Run '**pip install gensim**' in the python environment you are using for this notebook.</li>\n",
    "<li>to have **langdetect** installed. Run '**pip install langdetect**' in the python environment you are using for this notebook.</li>\n",
    "</ul>\n",
    "\n",
    "</div>\n",
    "\n",
    "We will start by importing what we need and downloading the files with the movies description.\n",
    "\n",
    "The dataset comes from a kaggle dataset : https://www.kaggle.com/rounakbanik/the-movies-dataset/data"
   ]
  },
  {
   "cell_type": "code",
   "execution_count": 1,
   "metadata": {
    "_cell_guid": "631a5f46-877b-41cb-9785-3f87831577b1",
    "_uuid": "461cc3b1bf67fb4984fd6dcf230b595f08e41105"
   },
   "outputs": [
    {
     "name": "stderr",
     "output_type": "stream",
     "text": [
      "C:\\Users\\Paul\\Anaconda3\\lib\\site-packages\\gensim\\utils.py:860: UserWarning: detected Windows; aliasing chunkize to chunkize_serial\n",
      "  warnings.warn(\"detected Windows; aliasing chunkize to chunkize_serial\")\n"
     ]
    }
   ],
   "source": [
    "import numpy as np\n",
    "import pandas as pd\n",
    "import matplotlib.pyplot as plt\n",
    "%matplotlib inline\n",
    "\n",
    "from gensim.models import Doc2Vec\n",
    "from collections import namedtuple\n",
    "import gensim.utils\n",
    "from langdetect import detect\n",
    "import re\n",
    "import string"
   ]
  },
  {
   "cell_type": "code",
   "execution_count": 2,
   "metadata": {
    "scrolled": true
   },
   "outputs": [
    {
     "data": {
      "text/html": [
       "<div>\n",
       "<style>\n",
       "    .dataframe thead tr:only-child th {\n",
       "        text-align: right;\n",
       "    }\n",
       "\n",
       "    .dataframe thead th {\n",
       "        text-align: left;\n",
       "    }\n",
       "\n",
       "    .dataframe tbody tr th {\n",
       "        vertical-align: top;\n",
       "    }\n",
       "</style>\n",
       "<table border=\"1\" class=\"dataframe\">\n",
       "  <thead>\n",
       "    <tr style=\"text-align: right;\">\n",
       "      <th></th>\n",
       "      <th>overview</th>\n",
       "      <th>original_title</th>\n",
       "    </tr>\n",
       "  </thead>\n",
       "  <tbody>\n",
       "    <tr>\n",
       "      <th>0</th>\n",
       "      <td>Led by Woody, Andy's toys live happily in his ...</td>\n",
       "      <td>Toy Story</td>\n",
       "    </tr>\n",
       "    <tr>\n",
       "      <th>1</th>\n",
       "      <td>When siblings Judy and Peter discover an encha...</td>\n",
       "      <td>Jumanji</td>\n",
       "    </tr>\n",
       "    <tr>\n",
       "      <th>2</th>\n",
       "      <td>A family wedding reignites the ancient feud be...</td>\n",
       "      <td>Grumpier Old Men</td>\n",
       "    </tr>\n",
       "    <tr>\n",
       "      <th>3</th>\n",
       "      <td>Cheated on, mistreated and stepped on, the wom...</td>\n",
       "      <td>Waiting to Exhale</td>\n",
       "    </tr>\n",
       "    <tr>\n",
       "      <th>4</th>\n",
       "      <td>Just when George Banks has recovered from his ...</td>\n",
       "      <td>Father of the Bride Part II</td>\n",
       "    </tr>\n",
       "  </tbody>\n",
       "</table>\n",
       "</div>"
      ],
      "text/plain": [
       "                                            overview  \\\n",
       "0  Led by Woody, Andy's toys live happily in his ...   \n",
       "1  When siblings Judy and Peter discover an encha...   \n",
       "2  A family wedding reignites the ancient feud be...   \n",
       "3  Cheated on, mistreated and stepped on, the wom...   \n",
       "4  Just when George Banks has recovered from his ...   \n",
       "\n",
       "                original_title  \n",
       "0                    Toy Story  \n",
       "1                      Jumanji  \n",
       "2             Grumpier Old Men  \n",
       "3            Waiting to Exhale  \n",
       "4  Father of the Bride Part II  "
      ]
     },
     "execution_count": 2,
     "metadata": {},
     "output_type": "execute_result"
    }
   ],
   "source": [
    "imdbdata=pd.read_csv('movies.csv')\n",
    "data = np.array(imdbdata.overview)\n",
    "titles=np.array(imdbdata.original_title)\n",
    "\n",
    "imdbdata.head()"
   ]
  },
  {
   "cell_type": "markdown",
   "metadata": {
    "_cell_guid": "4048fc6a-45ae-45c0-9bcd-ec03c052cfb0",
    "_uuid": "eb0ae6b4fe1db43931c21ac366ae3aa1f7f721fb",
    "collapsed": true
   },
   "source": [
    "## Text preprocessing\n",
    "\n",
    "In order to build the doc2vec model we need to clean the data that we have. We will remove text that are not string, that are too short and that are not written in english.\n",
    "Then, we will remove punctuation, and lowercase every word.\n",
    "We will build the list **alldocs** that contains every documents cleaned."
   ]
  },
  {
   "cell_type": "code",
   "execution_count": 3,
   "metadata": {
    "_cell_guid": "ca3b00dd-71ff-4e7e-a149-d341419f796c",
    "_uuid": "9e70b2660d580eb945a6e0ac1448f07074d0aaf7",
    "collapsed": true
   },
   "outputs": [],
   "source": [
    "SentimentDocument = namedtuple('SentimentDocument', 'words tags title original_number')\n",
    "n=0\n",
    "alldocs = []  # Will hold all docs in original order\n",
    "\n",
    "regex = re.compile('[%s]' % re.escape(string.punctuation)) #to remove punctuation\n",
    "\n",
    "for line_no, line in enumerate(data):\n",
    "    if (type(line)==str):\n",
    "        if (len(line)>150):\n",
    "            if (detect(line) == 'en') :\n",
    "                line = regex.sub('', line)\n",
    "                tokens = gensim.utils.to_unicode(line).lower().split()\n",
    "                words = tokens[0:]\n",
    "                tags = [n]\n",
    "                title = titles[line_no]\n",
    "                alldocs.append(SentimentDocument(words, tags, title, line_no))\n",
    "                n=n+1    "
   ]
  },
  {
   "cell_type": "markdown",
   "metadata": {},
   "source": [
    "Some insights on the dataset :"
   ]
  },
  {
   "cell_type": "code",
   "execution_count": 4,
   "metadata": {},
   "outputs": [
    {
     "name": "stdout",
     "output_type": "stream",
     "text": [
      "Number of Documents :  34180\n",
      "Mean length of documents :  65.9078115857\n"
     ]
    },
    {
     "data": {
      "text/plain": [
       "<matplotlib.text.Text at 0x2086fc4b860>"
      ]
     },
     "execution_count": 4,
     "metadata": {},
     "output_type": "execute_result"
    },
    {
     "data": {
      "image/png": "[encoded data removed]",
      "text/plain": [
       "<matplotlib.figure.Figure at 0x20860fc44a8>"
      ]
     },
     "metadata": {},
     "output_type": "display_data"
    }
   ],
   "source": [
    "l = []\n",
    "for doc in alldocs:\n",
    "    l.append(len(doc.words))\n",
    "\n",
    "print('Number of Documents : ', len(alldocs))\n",
    "print('Mean length of documents : ', np.mean(l))\n",
    "\n",
    "plt.figure (figsize=(20, 6))\n",
    "plt.bar(range(0, len(l)), l)\n",
    "plt.xlabel('Documents')\n",
    "plt.ylabel('Length of the description')"
   ]
  },
  {
   "cell_type": "code",
   "execution_count": 5,
   "metadata": {},
   "outputs": [
    {
     "name": "stdout",
     "output_type": "stream",
     "text": [
      "SentimentDocument(words=['led', 'by', 'woody', 'andys', 'toys', 'live', 'happily', 'in', 'his', 'room', 'until', 'andys', 'birthday', 'brings', 'buzz', 'lightyear', 'onto', 'the', 'scene', 'afraid', 'of', 'losing', 'his', 'place', 'in', 'andys', 'heart', 'woody', 'plots', 'against', 'buzz', 'but', 'when', 'circumstances', 'separate', 'buzz', 'and', 'woody', 'from', 'their', 'owner', 'the', 'duo', 'eventually', 'learns', 'to', 'put', 'aside', 'their', 'differences'], tags=[0], title='Toy Story', original_number=0) \n",
      "\n",
      "Led by Woody, Andy's toys live happily in his room until Andy's birthday brings Buzz Lightyear onto the scene. Afraid of losing his place in Andy's heart, Woody plots against Buzz. But when circumstances separate Buzz and Woody from their owner, the duo eventually learns to put aside their differences.\n"
     ]
    }
   ],
   "source": [
    "# An example of how the list alldocs is build\n",
    "\n",
    "index = 0\n",
    "doc = alldocs[index]\n",
    "print(doc, '\\n')\n",
    "print(data[doc.original_number])"
   ]
  },
  {
   "cell_type": "markdown",
   "metadata": {},
   "source": [
    "## <a id=\"creating\"></a> Creating and training the Doc2Vec model\n",
    "\n",
    "We create the Distributed Memory model with a size of 300 ( that means that the vecors will be of size 300). The window size is 10. We do not take in account words that are seen less than 10 times in the entire corpus with the variable *min_count*. Setting the variable *dbow_words* to 1 means that we are also training to represents words with numerical vectors.\n",
    "\n",
    "We then train our model over 100 epochs with a lerning rate of 0.01.\n",
    "\n",
    "Full documentation can be found here :\n",
    "<li> gensim : https://radimrehurek.com/gensim/ </li>\n",
    "<li> Doc2Vec : https://radimrehurek.com/gensim/models/doc2vec.html </li>\n",
    "<li> A great article introducing the concepts behind Doc2Vec : https://medium.com/scaleabout/a-gentle-introduction-to-doc2vec-db3e8c0cce5e </li>\n",
    "<li> Detailed scientific paper : https://cs.stanford.edu/~quocle/paragraph_vector.pdf </li>\n"
   ]
  },
  {
   "cell_type": "code",
   "execution_count": 6,
   "metadata": {
    "_cell_guid": "3fc47183-c884-4bef-9383-21231d52430c",
    "_uuid": "f8bd956e9ff7bc99f388c3ded7a927c0b05ada63",
    "collapsed": true
   },
   "outputs": [],
   "source": [
    "# PV-DM\n",
    "model = Doc2Vec(dm=1, size=300,window=10,hs=0,min_count=10,dbow_words=1,sample=1e-5)\n",
    "\n",
    "# build the vocabulary \n",
    "model.build_vocab(alldocs)"
   ]
  },
  {
   "cell_type": "code",
   "execution_count": 7,
   "metadata": {
    "collapsed": true
   },
   "outputs": [],
   "source": [
    "# PV-DM\n",
    "model = Doc2Vec(dm=1, size=100,window=10,hs=0,min_count=10,dbow_words=1,sample=1e-5, dm_mean=1)\n",
    "\n",
    "# build the vocabulary \n",
    "model.build_vocab(alldocs)"
   ]
  },
  {
   "cell_type": "code",
   "execution_count": 8,
   "metadata": {
    "_cell_guid": "8e62a5d0-741d-4644-9f38-3ae01088d40e",
    "_uuid": "72ff0acf1b30b343245108858206ab867b8aaf52"
   },
   "outputs": [
    {
     "data": {
      "text/plain": [
       "61855563"
      ]
     },
     "execution_count": 8,
     "metadata": {},
     "output_type": "execute_result"
    }
   ],
   "source": [
    "model.train(alldocs, total_examples=model.corpus_count, epochs=100, start_alpha=0.01, end_alpha=0.01)"
   ]
  },
  {
   "cell_type": "markdown",
   "metadata": {},
   "source": [
    "We can save and load models with the lines below."
   ]
  },
  {
   "cell_type": "code",
   "execution_count": 9,
   "metadata": {
    "_cell_guid": "4f29a0ca-7d95-45e2-b30a-08e80a849d27",
    "_uuid": "c13199e4db1ef943421c059dc8c58ad4c6244e31",
    "collapsed": true
   },
   "outputs": [],
   "source": [
    "model.save(\"model\")\n",
    "#Doc2Vec.load(\"model\")"
   ]
  },
  {
   "cell_type": "markdown",
   "metadata": {
    "_cell_guid": "5c7a4693-66e6-4213-b940-b3f5078ee094",
    "_uuid": "80fe102b1b5cad2b555c67b495c1e8cd6fb76fb9"
   },
   "source": [
    "## <a id=\"words\"></a>Evaluating words embedding\n",
    "\n",
    "We will try to evaluate our model with some examples by showing the closest words to the words love, war and space.\n",
    "\n",
    "As the process of training a neural network does not always come to the same model, if the results do not make sense, you might consider creating the model and training it again.\n",
    "\n"
   ]
  },
  {
   "cell_type": "code",
   "execution_count": 10,
   "metadata": {},
   "outputs": [
    {
     "data": {
      "text/plain": [
       "[('falls', 0.8801013231277466),\n",
       " ('fall', 0.854912281036377),\n",
       " ('falling', 0.8247562050819397),\n",
       " ('madly', 0.8246678709983826),\n",
       " ('unrequited', 0.7697283029556274),\n",
       " ('triangle', 0.7637508511543274),\n",
       " ('meets', 0.7580552101135254),\n",
       " ('blossom', 0.7565732598304749),\n",
       " ('marries', 0.7459118366241455),\n",
       " ('fallen', 0.74567711353302)]"
      ]
     },
     "execution_count": 10,
     "metadata": {},
     "output_type": "execute_result"
    }
   ],
   "source": [
    "model.wv.most_similar_cosmul(positive = [\"love\"])"
   ]
  },
  {
   "cell_type": "code",
   "execution_count": 11,
   "metadata": {},
   "outputs": [
    {
     "data": {
      "text/plain": [
       "[('ii', 0.923835813999176),\n",
       " ('civil', 0.8792981505393982),\n",
       " ('ww', 0.8355215191841125),\n",
       " ('vietnam', 0.8320338726043701),\n",
       " ('frontline', 0.829814612865448),\n",
       " ('soldier', 0.8267297148704529),\n",
       " ('during', 0.8063095211982727),\n",
       " ('stationed', 0.8055090308189392),\n",
       " ('trenches', 0.8053523898124695),\n",
       " ('soldiers', 0.801713764667511)]"
      ]
     },
     "execution_count": 11,
     "metadata": {},
     "output_type": "execute_result"
    }
   ],
   "source": [
    "model.wv.most_similar_cosmul(positive = [\"war\"])"
   ]
  },
  {
   "cell_type": "code",
   "execution_count": 12,
   "metadata": {},
   "outputs": [
    {
     "data": {
      "text/plain": [
       "[('mars', 0.9091245532035828),\n",
       " ('nasa', 0.8941714763641357),\n",
       " ('astronaut', 0.8928399085998535),\n",
       " ('asteroid', 0.8869292736053467),\n",
       " ('spacecraft', 0.8843206167221069),\n",
       " ('planet', 0.8804934620857239),\n",
       " ('astronauts', 0.8803018927574158),\n",
       " ('outer', 0.8802769184112549),\n",
       " ('earth', 0.8740312457084656),\n",
       " ('spaceship', 0.8737911581993103)]"
      ]
     },
     "execution_count": 12,
     "metadata": {},
     "output_type": "execute_result"
    }
   ],
   "source": [
    "model.wv.most_similar_cosmul(positive = [\"space\"])"
   ]
  },
  {
   "cell_type": "markdown",
   "metadata": {},
   "source": [
    "The cell below show that the relationship of gender is understood by the model as we have the equation ** man - woman = king - queen**"
   ]
  },
  {
   "cell_type": "code",
   "execution_count": 13,
   "metadata": {
    "_cell_guid": "95ad0282-82d0-405c-a3cf-c89181ede396",
    "_uuid": "8eeef245456e23f217b986b52051f360eca2b546"
   },
   "outputs": [
    {
     "data": {
      "text/plain": [
       "[('crowned', 0.8636603355407715),\n",
       " ('princess', 0.8592969179153442),\n",
       " ('palace', 0.8541278839111328),\n",
       " ('stepping', 0.845645546913147),\n",
       " ('queen', 0.8434802293777466),\n",
       " ('dartagnan', 0.8404666185379028),\n",
       " ('throne', 0.817885160446167),\n",
       " ('frances', 0.8175328969955444),\n",
       " ('stepmother', 0.815171480178833),\n",
       " ('empress', 0.8079445958137512)]"
      ]
     },
     "execution_count": 13,
     "metadata": {},
     "output_type": "execute_result"
    }
   ],
   "source": [
    "model.wv.most_similar_cosmul(negative = [\"man\"], positive = [\"king\",\"woman\"])"
   ]
  },
  {
   "cell_type": "markdown",
   "metadata": {},
   "source": [
    "The results on the word embeddings are satisfying as we have coherent outputs.\n",
    "\n",
    "## <a id=\"docs\"></a>Evaluating documents embedding\n",
    "\n",
    "We will evaluate our model of documents embedding with some examples by showing the closest documents to key words ( here called tokens). We expect the documents to have similar meanings than the key words. In this way, the model act as a search engine."
   ]
  },
  {
   "cell_type": "code",
   "execution_count": 14,
   "metadata": {},
   "outputs": [
    {
     "name": "stdout",
     "output_type": "stream",
     "text": [
      "Document :  Roger, son of a farmer, wants to be a boxer, and gets his chance by filling in for a boxer's sparring partner. However, Roger does not know how to box and reads a rule book while in the ring. \n",
      "\n",
      "Titre :  Soigne ton Gauche\n",
      "Distance :  0.31606847047805786\n"
     ]
    }
   ],
   "source": [
    "# Closest document to the word \"war\"\n",
    "\n",
    "tokens = \"war\"\n",
    "\n",
    "new_vector = model.infer_vector(tokens.split() ,alpha=0.001 ,steps = 5)\n",
    "tagsim = model.docvecs.most_similar([new_vector])[0]\n",
    "\n",
    "docsim = alldocs[tagsim[0] ]\n",
    "\n",
    "print(\"Document : \", data[docsim.original_number], \"\\n\")\n",
    "print(\"Titre : \", docsim.title)\n",
    "print(\"Distance : \", tagsim[1])"
   ]
  },
  {
   "cell_type": "markdown",
   "metadata": {},
   "source": [
    "We show the closest document to key words, the farest document and a document in the middle."
   ]
  },
  {
   "cell_type": "code",
   "execution_count": 15,
   "metadata": {
    "_cell_guid": "1b8e22de-6612-486e-99ef-058b70d35e1b",
    "_uuid": "ea4c4be94897fc5049409cc54ced7b87994ff16b"
   },
   "outputs": [
    {
     "name": "stdout",
     "output_type": "stream",
     "text": [
      "Most :  It's not easy being the most popular couple in high school. Adam and Amber are the golden pair of Gaitlin High and are very busy being cool. Yet somehow Adam finds time for extracurricular activities, like making-it with Gynger, a sophomore, in the bathroom of a local restaurant. Soon, Adam's tidy world starts to fall apart when he finds out Gynger is pregnant. An ambitious Assistant District Attorney decides to file charges against Adam. Trying to help, Adam's parents hire a third-rate attorney whose every move just makes matters worse! Jailbait is a wickedly funny look at how far some guys will go to score. Can Adam find a way to keep himself out of jail and his girlfriend by his side? Watch this hysterical teen comedy featuring a cool cast of young stars and a hip soundtrack. See what happens when hormones rage and you're under age!!! \n",
      "\n",
      "Median :  In this crazy, chaotic gospel of chance, aspiring filmmakers Chris Stamp and Kit Lambert set out to search for a subject for their underground movie, leading them to discover, mentor, and manage the iconic band known as The Who and create rock 'n' roll history. \n",
      "\n",
      "Least :  Pawn's Move  is a film directed by Caleb Vetter in 2011. A young man inherits his late mentor's pawn shop and $4 million from the sale of a collectible. Escaping the man's money-hungry girlfriend, he moves to a small town under a new name, where a woman captures his heart but their pasts keep them apart.\n"
     ]
    }
   ],
   "source": [
    "# Closest document to the word \"love\"\n",
    "\n",
    "tokens = \"love\"\n",
    "\n",
    "new_vector = model.infer_vector(tokens.split() ,alpha=0.001 ,steps = 5)\n",
    "sims = model.docvecs.most_similar([new_vector], topn=model.docvecs.count) # get *all* similar documents\n",
    "\n",
    "print(\"Most : \" , data[alldocs[sims[0][0]].original_number], \"\\n\") \n",
    "print(\"Median : \" , data[alldocs[sims[17000][0]].original_number], \"\\n\")\n",
    "print(\"Least : \" , data[alldocs[sims[-1][0]].original_number])"
   ]
  },
  {
   "cell_type": "markdown",
   "metadata": {},
   "source": [
    "In this example, in terms of reviewer tone, movie genre, etc... the MOST cosine-similar documents seem more like the key words than the MEDIAN or LEAST"
   ]
  },
  {
   "cell_type": "code",
   "execution_count": 16,
   "metadata": {},
   "outputs": [
    {
     "name": "stdout",
     "output_type": "stream",
     "text": [
      "Target :  Hannie enlists the aid of bounty hunter Tom Price to teach her how to be a gunfighter so she can hunt down the 3 men who killed her husband and raped her. \n",
      "\n",
      "Most :  A woman framed for her husband's murder suspects he is still alive; as she has already been tried for the crime, she can't be re-prosecuted if she finds and kills him. \n",
      "\n",
      "Median :  Record store clerk Nick Brady begins to experience strange visions from an entity he calls VALIS that cause him to uproot his family and move to Los Angeles where he becomes a successful music company executive. Nick finds himself drawn into a dangerous political-mystical conspiracy of cosmic proportions. \n",
      "\n",
      "Least :  A company of Spanish movie makers leaves Franco's Spain and moves to Hitler's Germany to make a film in co-production. Soon some problems start to arise...\n"
     ]
    }
   ],
   "source": [
    "doc = np.random.randint(model.docvecs.count)\n",
    "\n",
    "sims = model.docvecs.most_similar(doc, topn=model.docvecs.count) # get *all* similar documents\n",
    "\n",
    "print(\"Target : \", data[alldocs[doc] .original_number], \"\\n\" )\n",
    "print(\"Most : \" , data[alldocs[sims[0][0]].original_number], \"\\n\")\n",
    "print(\"Median : \" , data[alldocs[sims[34000][0]].original_number], \"\\n\")\n",
    "print(\"Least : \" , data[alldocs[sims[-1][0]].original_number])\n"
   ]
  },
  {
   "cell_type": "markdown",
   "metadata": {},
   "source": [
    "Usually the MOST cosine-similar documents usually seem more like the TARGET than the MEDIAN or LEAST"
   ]
  },
  {
   "cell_type": "markdown",
   "metadata": {
    "_cell_guid": "d6666cff-2ff4-4bc7-a50d-7f61cd5e57b5",
    "_uuid": "2bc413a5e42337f9f33c58d9aa51ba35e6bb8cef"
   },
   "source": [
    " ## Pre-trained word embeddings\n",
    " \n",
    " It is possible to use pre-trained word embeddings for your model. Indeed, there is a word2vec model available here (https://code.google.com/archive/p/word2vec). This model is trained by google but might not be well suited for the problem you want to solve. "
   ]
  },
  {
   "cell_type": "code",
   "execution_count": 17,
   "metadata": {
    "_cell_guid": "f86b9e2f-0360-4a61-b353-9cc7e0471a60",
    "_uuid": "393e48277e0aaa610cad6ebc6a54886c0b7ae6cd"
   },
   "outputs": [
    {
     "ename": "FileNotFoundError",
     "evalue": "[Errno 2] No such file or directory: '../input/google-doc2vec/GoogleNews-vectors-negative300.bin'",
     "output_type": "error",
     "traceback": [
      "\u001b[1;31m---------------------------------------------------------------------------\u001b[0m",
      "\u001b[1;31mFileNotFoundError\u001b[0m                         Traceback (most recent call last)",
      "\u001b[1;32m<ipython-input-17-6e5ed98c4c06>\u001b[0m in \u001b[0;36m<module>\u001b[1;34m()\u001b[0m\n\u001b[0;32m      6\u001b[0m \u001b[1;33m\u001b[0m\u001b[0m\n\u001b[0;32m      7\u001b[0m \u001b[1;31m# use pre-trained word vectors from google\u001b[0m\u001b[1;33m\u001b[0m\u001b[1;33m\u001b[0m\u001b[0m\n\u001b[1;32m----> 8\u001b[1;33m \u001b[0mmodel_pre_trained\u001b[0m\u001b[1;33m.\u001b[0m\u001b[0mintersect_word2vec_format\u001b[0m\u001b[1;33m(\u001b[0m\u001b[1;34m'../input/google-doc2vec/GoogleNews-vectors-negative300.bin'\u001b[0m\u001b[1;33m,\u001b[0m \u001b[0mbinary\u001b[0m\u001b[1;33m=\u001b[0m\u001b[1;32mTrue\u001b[0m\u001b[1;33m)\u001b[0m\u001b[1;33m\u001b[0m\u001b[0m\n\u001b[0m",
      "\u001b[1;32mC:\\Users\\Paul\\Anaconda3\\lib\\site-packages\\gensim\\models\\word2vec.py\u001b[0m in \u001b[0;36mintersect_word2vec_format\u001b[1;34m(self, fname, lockf, binary, encoding, unicode_errors)\u001b[0m\n\u001b[0;32m   1332\u001b[0m         \u001b[0moverlap_count\u001b[0m \u001b[1;33m=\u001b[0m \u001b[1;36m0\u001b[0m\u001b[1;33m\u001b[0m\u001b[0m\n\u001b[0;32m   1333\u001b[0m         \u001b[0mlogger\u001b[0m\u001b[1;33m.\u001b[0m\u001b[0minfo\u001b[0m\u001b[1;33m(\u001b[0m\u001b[1;34m\"loading projection weights from %s\"\u001b[0m\u001b[1;33m,\u001b[0m \u001b[0mfname\u001b[0m\u001b[1;33m)\u001b[0m\u001b[1;33m\u001b[0m\u001b[0m\n\u001b[1;32m-> 1334\u001b[1;33m         \u001b[1;32mwith\u001b[0m \u001b[0mutils\u001b[0m\u001b[1;33m.\u001b[0m\u001b[0msmart_open\u001b[0m\u001b[1;33m(\u001b[0m\u001b[0mfname\u001b[0m\u001b[1;33m)\u001b[0m \u001b[1;32mas\u001b[0m \u001b[0mfin\u001b[0m\u001b[1;33m:\u001b[0m\u001b[1;33m\u001b[0m\u001b[0m\n\u001b[0m\u001b[0;32m   1335\u001b[0m             \u001b[0mheader\u001b[0m \u001b[1;33m=\u001b[0m \u001b[0mutils\u001b[0m\u001b[1;33m.\u001b[0m\u001b[0mto_unicode\u001b[0m\u001b[1;33m(\u001b[0m\u001b[0mfin\u001b[0m\u001b[1;33m.\u001b[0m\u001b[0mreadline\u001b[0m\u001b[1;33m(\u001b[0m\u001b[1;33m)\u001b[0m\u001b[1;33m,\u001b[0m \u001b[0mencoding\u001b[0m\u001b[1;33m=\u001b[0m\u001b[0mencoding\u001b[0m\u001b[1;33m)\u001b[0m\u001b[1;33m\u001b[0m\u001b[0m\n\u001b[0;32m   1336\u001b[0m             \u001b[0mvocab_size\u001b[0m\u001b[1;33m,\u001b[0m \u001b[0mvector_size\u001b[0m \u001b[1;33m=\u001b[0m \u001b[1;33m(\u001b[0m\u001b[0mint\u001b[0m\u001b[1;33m(\u001b[0m\u001b[0mx\u001b[0m\u001b[1;33m)\u001b[0m \u001b[1;32mfor\u001b[0m \u001b[0mx\u001b[0m \u001b[1;32min\u001b[0m \u001b[0mheader\u001b[0m\u001b[1;33m.\u001b[0m\u001b[0msplit\u001b[0m\u001b[1;33m(\u001b[0m\u001b[1;33m)\u001b[0m\u001b[1;33m)\u001b[0m  \u001b[1;31m# throws for invalid file format\u001b[0m\u001b[1;33m\u001b[0m\u001b[0m\n",
      "\u001b[1;32mC:\\Users\\Paul\\Anaconda3\\lib\\site-packages\\smart_open\\smart_open_lib.py\u001b[0m in \u001b[0;36msmart_open\u001b[1;34m(uri, mode, **kw)\u001b[0m\n\u001b[0;32m    174\u001b[0m             \u001b[0mencoding\u001b[0m \u001b[1;33m=\u001b[0m \u001b[0mkw\u001b[0m\u001b[1;33m.\u001b[0m\u001b[0mpop\u001b[0m\u001b[1;33m(\u001b[0m\u001b[1;34m'encoding'\u001b[0m\u001b[1;33m,\u001b[0m \u001b[1;32mNone\u001b[0m\u001b[1;33m)\u001b[0m\u001b[1;33m\u001b[0m\u001b[0m\n\u001b[0;32m    175\u001b[0m             \u001b[0merrors\u001b[0m \u001b[1;33m=\u001b[0m \u001b[0mkw\u001b[0m\u001b[1;33m.\u001b[0m\u001b[0mpop\u001b[0m\u001b[1;33m(\u001b[0m\u001b[1;34m'errors'\u001b[0m\u001b[1;33m,\u001b[0m \u001b[0mDEFAULT_ERRORS\u001b[0m\u001b[1;33m)\u001b[0m\u001b[1;33m\u001b[0m\u001b[0m\n\u001b[1;32m--> 176\u001b[1;33m             \u001b[1;32mreturn\u001b[0m \u001b[0mfile_smart_open\u001b[0m\u001b[1;33m(\u001b[0m\u001b[0mparsed_uri\u001b[0m\u001b[1;33m.\u001b[0m\u001b[0muri_path\u001b[0m\u001b[1;33m,\u001b[0m \u001b[0mmode\u001b[0m\u001b[1;33m,\u001b[0m \u001b[0mencoding\u001b[0m\u001b[1;33m=\u001b[0m\u001b[0mencoding\u001b[0m\u001b[1;33m,\u001b[0m \u001b[0merrors\u001b[0m\u001b[1;33m=\u001b[0m\u001b[0merrors\u001b[0m\u001b[1;33m)\u001b[0m\u001b[1;33m\u001b[0m\u001b[0m\n\u001b[0m\u001b[0;32m    177\u001b[0m         \u001b[1;32melif\u001b[0m \u001b[0mparsed_uri\u001b[0m\u001b[1;33m.\u001b[0m\u001b[0mscheme\u001b[0m \u001b[1;32min\u001b[0m \u001b[1;33m(\u001b[0m\u001b[1;34m\"s3\"\u001b[0m\u001b[1;33m,\u001b[0m \u001b[1;34m\"s3n\"\u001b[0m\u001b[1;33m,\u001b[0m \u001b[1;34m's3u'\u001b[0m\u001b[1;33m)\u001b[0m\u001b[1;33m:\u001b[0m\u001b[1;33m\u001b[0m\u001b[0m\n\u001b[0;32m    178\u001b[0m             \u001b[1;32mreturn\u001b[0m \u001b[0ms3_open_uri\u001b[0m\u001b[1;33m(\u001b[0m\u001b[0mparsed_uri\u001b[0m\u001b[1;33m,\u001b[0m \u001b[0mmode\u001b[0m\u001b[1;33m,\u001b[0m \u001b[1;33m**\u001b[0m\u001b[0mkw\u001b[0m\u001b[1;33m)\u001b[0m\u001b[1;33m\u001b[0m\u001b[0m\n",
      "\u001b[1;32mC:\\Users\\Paul\\Anaconda3\\lib\\site-packages\\smart_open\\smart_open_lib.py\u001b[0m in \u001b[0;36mfile_smart_open\u001b[1;34m(fname, mode, encoding, errors)\u001b[0m\n\u001b[0;32m    669\u001b[0m     \u001b[1;32mexcept\u001b[0m \u001b[0mKeyError\u001b[0m\u001b[1;33m:\u001b[0m\u001b[1;33m\u001b[0m\u001b[0m\n\u001b[0;32m    670\u001b[0m         \u001b[0mraw_mode\u001b[0m \u001b[1;33m=\u001b[0m \u001b[0mmode\u001b[0m\u001b[1;33m\u001b[0m\u001b[0m\n\u001b[1;32m--> 671\u001b[1;33m     \u001b[0mraw_fobj\u001b[0m \u001b[1;33m=\u001b[0m \u001b[0mopen\u001b[0m\u001b[1;33m(\u001b[0m\u001b[0mfname\u001b[0m\u001b[1;33m,\u001b[0m \u001b[0mraw_mode\u001b[0m\u001b[1;33m)\u001b[0m\u001b[1;33m\u001b[0m\u001b[0m\n\u001b[0m\u001b[0;32m    672\u001b[0m     \u001b[0mdecompressed_fobj\u001b[0m \u001b[1;33m=\u001b[0m \u001b[0mcompression_wrapper\u001b[0m\u001b[1;33m(\u001b[0m\u001b[0mraw_fobj\u001b[0m\u001b[1;33m,\u001b[0m \u001b[0mfname\u001b[0m\u001b[1;33m,\u001b[0m \u001b[0mraw_mode\u001b[0m\u001b[1;33m)\u001b[0m\u001b[1;33m\u001b[0m\u001b[0m\n\u001b[0;32m    673\u001b[0m     \u001b[0mdecoded_fobj\u001b[0m \u001b[1;33m=\u001b[0m \u001b[0mencoding_wrapper\u001b[0m\u001b[1;33m(\u001b[0m\u001b[0mdecompressed_fobj\u001b[0m\u001b[1;33m,\u001b[0m \u001b[0mmode\u001b[0m\u001b[1;33m,\u001b[0m \u001b[0mencoding\u001b[0m\u001b[1;33m=\u001b[0m\u001b[0mencoding\u001b[0m\u001b[1;33m,\u001b[0m \u001b[0merrors\u001b[0m\u001b[1;33m=\u001b[0m\u001b[0merrors\u001b[0m\u001b[1;33m)\u001b[0m\u001b[1;33m\u001b[0m\u001b[0m\n",
      "\u001b[1;31mFileNotFoundError\u001b[0m: [Errno 2] No such file or directory: '../input/google-doc2vec/GoogleNews-vectors-negative300.bin'"
     ]
    }
   ],
   "source": [
    "# PV-DBOW (with negative sampling)\n",
    "model_pre_trained = Doc2Vec(dm=0,size=300, window=15,hs=0,negative=5,min_count=10,dbow_words=1,sample=1e-5)\n",
    "\n",
    "# build the vocabulary \n",
    "model_pre_trained.build_vocab(alldocs)\n",
    "\n",
    "# use pre-trained word vectors from google\n",
    "model_pre_trained.intersect_word2vec_format('../input/google-doc2vec/GoogleNews-vectors-negative300.bin', binary=True)"
   ]
  },
  {
   "cell_type": "code",
   "execution_count": null,
   "metadata": {
    "_cell_guid": "36e7f4c1-3eb1-49cf-9389-d653042222ff",
    "_uuid": "3ffbedd7915d2e26db833ed4ea133c57e73fb747",
    "collapsed": true
   },
   "outputs": [],
   "source": [
    "model_pre_trained.train(alldocs, total_examples=model.corpus_count, epochs=100)"
   ]
  },
  {
   "cell_type": "markdown",
   "metadata": {
    "_cell_guid": "62b8fc44-1a94-4608-9b88-0de6b66d3be4",
    "_uuid": "f8aadd752db5259e3ee00c4127c5be07148a0453",
    "collapsed": true
   },
   "source": [
    "## <a id=\"tfidf\"></a>Creating the TF-IDF model\n",
    "\n",
    "we create the TF-IDF model from the list alldocs with the module TfidfModel from gensim.\n",
    "\n",
    "\n",
    "Full documentation can be found here :\n",
    "<li> gensim : https://radimrehurek.com/gensim/ </li>\n",
    "<li> Tf-Idf : https://radimrehurek.com/gensim/models/tfidfmodel.html </li>"
   ]
  },
  {
   "cell_type": "code",
   "execution_count": null,
   "metadata": {
    "_cell_guid": "052ac363-a61e-4995-842e-1de38251c922",
    "_uuid": "36fffa7369a33971f577610fbe19dab4e12fc495",
    "collapsed": true
   },
   "outputs": [],
   "source": [
    "from gensim.models import TfidfModel\n",
    "from gensim.corpora import Dictionary\n",
    "from gensim import similarities \n",
    "\n",
    "dct = Dictionary(doc.words for doc in alldocs)  # fit dictionary\n",
    "corpus = [dct.doc2bow(line.words) for line in alldocs]  # convert dataset to BoW format\n",
    "model_tfidf = TfidfModel(corpus)  # fit model"
   ]
  },
  {
   "cell_type": "code",
   "execution_count": null,
   "metadata": {},
   "outputs": [],
   "source": [
    "# for example \n",
    " \n",
    "index = 0\n",
    "print(\"Document \",index, \" : \", data[alldocs[index].original_number] ) \n",
    "print(\"Bag of words representation of document \", index, \" : \", corpus[index])"
   ]
  },
  {
   "cell_type": "markdown",
   "metadata": {},
   "source": [
    "## Creating Similarity matrix between a list of key words and all the documents\n",
    "\n",
    "We create a matrix similarity thet represents the similarity between the list of key words and the documents."
   ]
  },
  {
   "cell_type": "code",
   "execution_count": null,
   "metadata": {
    "_cell_guid": "3887f564-f139-4edb-a38f-74e7a5c70490",
    "_uuid": "2e25899e5994ad9580355b03888a1a093256bfc5",
    "collapsed": true
   },
   "outputs": [],
   "source": [
    "#Create similarity matrix between doc and tokens\n",
    "tokens = \"love\".split()\n",
    "index = similarities.MatrixSimilarity([dct.doc2bow(tokens)],num_features=len(dct))"
   ]
  },
  {
   "cell_type": "markdown",
   "metadata": {},
   "source": [
    "We just use the document with the higher score of similarity."
   ]
  },
  {
   "cell_type": "code",
   "execution_count": null,
   "metadata": {
    "_cell_guid": "ff1d9477-926f-4fcd-98d8-e1acbaf586f6",
    "_uuid": "7bb787ed8102a74835e7b80274f1aff8ad136408"
   },
   "outputs": [],
   "source": [
    "similarity=np.zeros((len(alldocs)))\n",
    "maxsim = 0\n",
    "for id, doc in enumerate(alldocs):\n",
    "    similarity[id] = index[dct.doc2bow(doc.words)]\n",
    "    \n",
    "docsim= alldocs[np.argmax(similarity)] \n",
    "print(data[docsim.original_number])\n",
    "print(tagsim)\n",
    "print(docsim.title)"
   ]
  },
  {
   "cell_type": "code",
   "execution_count": null,
   "metadata": {
    "collapsed": true
   },
   "outputs": [],
   "source": []
  }
 ],
 "metadata": {
  "kernelspec": {
   "display_name": "Python 3",
   "language": "python",
   "name": "python3"
  },
  "language_info": {
   "codemirror_mode": {
    "name": "ipython",
    "version": 3
   },
   "file_extension": ".py",
   "mimetype": "text/x-python",
   "name": "python",
   "nbconvert_exporter": "python",
   "pygments_lexer": "ipython3",
   "version": "3.6.1"
  }
 },
 "nbformat": 4,
 "nbformat_minor": 1
}
